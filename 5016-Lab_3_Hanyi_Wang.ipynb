{
 "cells": [
  {
   "cell_type": "code",
   "execution_count": 1,
   "id": "7890c43e",
   "metadata": {},
   "outputs": [
    {
     "ename": "ModuleNotFoundError",
     "evalue": "No module named 'arch'",
     "output_type": "error",
     "traceback": [
      "\u001b[0;31m---------------------------------------------------------------------------\u001b[0m",
      "\u001b[0;31mModuleNotFoundError\u001b[0m                       Traceback (most recent call last)",
      "\u001b[0;32m/var/folders/cw/pcxt012s3td1d_ls_vc4g03h0000gn/T/ipykernel_22761/3614768268.py\u001b[0m in \u001b[0;36m<module>\u001b[0;34m\u001b[0m\n\u001b[1;32m     13\u001b[0m \u001b[0;32mfrom\u001b[0m \u001b[0mpatsy\u001b[0m \u001b[0;32mimport\u001b[0m \u001b[0mdmatrices\u001b[0m\u001b[0;34m\u001b[0m\u001b[0;34m\u001b[0m\u001b[0m\n\u001b[1;32m     14\u001b[0m \u001b[0;32mfrom\u001b[0m \u001b[0mstatsmodels\u001b[0m\u001b[0;34m.\u001b[0m\u001b[0mstats\u001b[0m\u001b[0;34m.\u001b[0m\u001b[0moutliers_influence\u001b[0m \u001b[0;32mimport\u001b[0m \u001b[0mvariance_inflation_factor\u001b[0m\u001b[0;34m\u001b[0m\u001b[0;34m\u001b[0m\u001b[0m\n\u001b[0;32m---> 15\u001b[0;31m \u001b[0;32mfrom\u001b[0m \u001b[0march\u001b[0m\u001b[0;34m.\u001b[0m\u001b[0munitroot\u001b[0m \u001b[0;32mimport\u001b[0m \u001b[0mADF\u001b[0m\u001b[0;34m,\u001b[0m \u001b[0mPhillipsPerron\u001b[0m\u001b[0;34m,\u001b[0m \u001b[0mDFGLS\u001b[0m\u001b[0;34m\u001b[0m\u001b[0;34m\u001b[0m\u001b[0m\n\u001b[0m\u001b[1;32m     16\u001b[0m \u001b[0;32mfrom\u001b[0m \u001b[0march\u001b[0m \u001b[0;32mimport\u001b[0m \u001b[0march_model\u001b[0m\u001b[0;34m\u001b[0m\u001b[0;34m\u001b[0m\u001b[0m\n\u001b[1;32m     17\u001b[0m \u001b[0;32mfrom\u001b[0m \u001b[0mpmdarima\u001b[0m\u001b[0;34m.\u001b[0m\u001b[0marima\u001b[0m \u001b[0;32mimport\u001b[0m \u001b[0mauto_arima\u001b[0m\u001b[0;34m\u001b[0m\u001b[0;34m\u001b[0m\u001b[0m\n",
      "\u001b[0;31mModuleNotFoundError\u001b[0m: No module named 'arch'"
     ]
    }
   ],
   "source": [
    "# import packages\n",
    "\n",
    "import pandas as pd\n",
    "import matplotlib.pyplot as plt\n",
    "import numpy as np\n",
    "import seaborn as sns\n",
    "import statsmodels.api as sm\n",
    "import statsmodels.formula.api as smf\n",
    "from scipy import stats\n",
    "from statsmodels.compat import lzip\n",
    "from statsmodels.stats.stattools import durbin_watson\n",
    "from statsmodels.stats.diagnostic import acorr_breusch_godfrey\n",
    "from statsmodels.tsa.stattools import acf\n",
    "from statsmodels.graphics.tsaplots import plot_acf, plot_pacf\n",
    "from patsy import dmatrices\n",
    "from statsmodels.stats.outliers_influence import variance_inflation_factor\n",
    "from arch.unitroot import ADF, PhillipsPerron, DFGLS\n",
    "from arch import arch_model\n",
    "from pmdarima.arima import auto_arima\n",
    "import warnings\n",
    "from statsmodels.tsa.arima_model import ARIMA\n",
    "from statsmodels.tsa.statespace.sarimax import SARIMAX\n",
    "from statsmodels.stats.diagnostic import acorr_ljungbox"
   ]
  },
  {
   "cell_type": "markdown",
   "id": "959f24a7",
   "metadata": {},
   "source": [
    "# 1. ​​Create​​ a ​​multivariate​​ time ​​series; ​​perform ​​any ​​interpolations.​​​​"
   ]
  },
  {
   "cell_type": "code",
   "execution_count": null,
   "id": "798bebac",
   "metadata": {},
   "outputs": [],
   "source": [
    "# import data and create variables\n",
    "\n",
    "gss = pd.read_csv(\"trends-gss.csv\")\n",
    "variables = [\"year\", \"progunlaw\", \"age\", \"hapmar\", \"degree\", \"realinc\"]\n",
    "sub = gss[variables].copy()"
   ]
  },
  {
   "cell_type": "code",
   "execution_count": 3,
   "id": "11acf64a",
   "metadata": {},
   "outputs": [],
   "source": [
    "# recode variables\n",
    "\n",
    "sub['nprogunlaw'] = np.where(sub['progunlaw'] == 1, 1, 0)\n",
    "sub['baplus'] = np.where(sub['degree'] >= 3, 1, 0)\n",
    "sub['happinessmar'] = np.where(sub['hapmar'] == 1, 1, 0)\n",
    "sub['income'] = sub['realinc']"
   ]
  },
  {
   "cell_type": "code",
   "execution_count": 4,
   "id": "24ddc469",
   "metadata": {},
   "outputs": [],
   "source": [
    "# group variables by year\n",
    "\n",
    "by_year = sub.groupby('year', as_index = False).agg('mean').replace({0.000000: np.nan})"
   ]
  },
  {
   "cell_type": "code",
   "execution_count": 5,
   "id": "f1d86ff8",
   "metadata": {},
   "outputs": [],
   "source": [
    "# add years to dataframe\n",
    "\n",
    "add_years_df = pd.DataFrame(data = pd.Series([1979, 1981, 1992, 1995] + list(np.arange(1997, 2009, 2))),\n",
    "                            columns = ['year'])\n",
    "                            \n",
    "by_year = pd.concat([by_year, add_years_df], sort = False, ignore_index = True)"
   ]
  },
  {
   "cell_type": "code",
   "execution_count": 6,
   "id": "57ebca62",
   "metadata": {},
   "outputs": [],
   "source": [
    "# sort by year and make index\n",
    "\n",
    "by_year = by_year.sort_values('year')\n",
    "by_year = by_year.set_index(\"year\", drop = False)\n",
    "by_year_ts = by_year.interpolate(method = 'linear')"
   ]
  },
  {
   "cell_type": "code",
   "execution_count": 7,
   "id": "532e3070",
   "metadata": {},
   "outputs": [],
   "source": [
    "# multiply percentages by 100\n",
    "\n",
    "by_year_ts['progunlaw_pct'] = by_year_ts['progunlaw']*100\n",
    "by_year_ts['ba_pct'] = by_year_ts['baplus']*100\n",
    "by_year_ts['hapmar_pct'] = by_year_ts['happinessmar']*100"
   ]
  },
  {
   "cell_type": "markdown",
   "id": "d9619717",
   "metadata": {},
   "source": [
    "# 2.​​ Graph ​​the​​ relationships ​​between ​​X​​ and​​ Y. Explain how you think Y should relate to your key Xs."
   ]
  },
  {
   "cell_type": "code",
   "execution_count": 8,
   "id": "0e71aaf3",
   "metadata": {},
   "outputs": [
    {
     "data": {
      "text/html": [
       "<div>\n",
       "<style scoped>\n",
       "    .dataframe tbody tr th:only-of-type {\n",
       "        vertical-align: middle;\n",
       "    }\n",
       "\n",
       "    .dataframe tbody tr th {\n",
       "        vertical-align: top;\n",
       "    }\n",
       "\n",
       "    .dataframe thead th {\n",
       "        text-align: right;\n",
       "    }\n",
       "</style>\n",
       "<table border=\"1\" class=\"dataframe\">\n",
       "  <thead>\n",
       "    <tr style=\"text-align: right;\">\n",
       "      <th></th>\n",
       "      <th>gunlaw_pct</th>\n",
       "      <th>hapmar_pct</th>\n",
       "      <th>ba_pct</th>\n",
       "      <th>age</th>\n",
       "      <th>income</th>\n",
       "      <th>year</th>\n",
       "    </tr>\n",
       "  </thead>\n",
       "  <tbody>\n",
       "    <tr>\n",
       "      <th>gunlaw_pct</th>\n",
       "      <td>1.000000</td>\n",
       "      <td>0.549366</td>\n",
       "      <td>-0.658677</td>\n",
       "      <td>-0.371104</td>\n",
       "      <td>-0.427310</td>\n",
       "      <td>-0.607751</td>\n",
       "    </tr>\n",
       "    <tr>\n",
       "      <th>hapmar_pct</th>\n",
       "      <td>0.549366</td>\n",
       "      <td>1.000000</td>\n",
       "      <td>-0.824718</td>\n",
       "      <td>-0.638864</td>\n",
       "      <td>-0.614885</td>\n",
       "      <td>-0.853999</td>\n",
       "    </tr>\n",
       "    <tr>\n",
       "      <th>ba_pct</th>\n",
       "      <td>-0.658677</td>\n",
       "      <td>-0.824718</td>\n",
       "      <td>1.000000</td>\n",
       "      <td>0.812950</td>\n",
       "      <td>0.676960</td>\n",
       "      <td>0.977415</td>\n",
       "    </tr>\n",
       "    <tr>\n",
       "      <th>age</th>\n",
       "      <td>-0.371104</td>\n",
       "      <td>-0.638864</td>\n",
       "      <td>0.812950</td>\n",
       "      <td>1.000000</td>\n",
       "      <td>0.532060</td>\n",
       "      <td>0.859790</td>\n",
       "    </tr>\n",
       "    <tr>\n",
       "      <th>income</th>\n",
       "      <td>-0.427310</td>\n",
       "      <td>-0.614885</td>\n",
       "      <td>0.676960</td>\n",
       "      <td>0.532060</td>\n",
       "      <td>1.000000</td>\n",
       "      <td>0.635920</td>\n",
       "    </tr>\n",
       "    <tr>\n",
       "      <th>year</th>\n",
       "      <td>-0.607751</td>\n",
       "      <td>-0.853999</td>\n",
       "      <td>0.977415</td>\n",
       "      <td>0.859790</td>\n",
       "      <td>0.635920</td>\n",
       "      <td>1.000000</td>\n",
       "    </tr>\n",
       "  </tbody>\n",
       "</table>\n",
       "</div>"
      ],
      "text/plain": [
       "            gunlaw_pct  hapmar_pct    ba_pct       age    income      year\n",
       "gunlaw_pct    1.000000    0.549366 -0.658677 -0.371104 -0.427310 -0.607751\n",
       "hapmar_pct    0.549366    1.000000 -0.824718 -0.638864 -0.614885 -0.853999\n",
       "ba_pct       -0.658677   -0.824718  1.000000  0.812950  0.676960  0.977415\n",
       "age          -0.371104   -0.638864  0.812950  1.000000  0.532060  0.859790\n",
       "income       -0.427310   -0.614885  0.676960  0.532060  1.000000  0.635920\n",
       "year         -0.607751   -0.853999  0.977415  0.859790  0.635920  1.000000"
      ]
     },
     "execution_count": 8,
     "metadata": {},
     "output_type": "execute_result"
    }
   ],
   "source": [
    "# find correlation coefficients\n",
    "\n",
    "corr_vars = ['progunlaw_pct', 'hapmar_pct', 'ba_pct', 'age', 'income', 'year']\n",
    "by_year_ts[corr_vars].corr()"
   ]
  },
  {
   "cell_type": "code",
   "execution_count": 9,
   "id": "4190e73b",
   "metadata": {},
   "outputs": [
    {
     "data": {
      "text/plain": [
       "<AxesSubplot:>"
      ]
     },
     "execution_count": 9,
     "metadata": {},
     "output_type": "execute_result"
    },
    {
     "data": {
      "image/png": "[encoded data removed]",
      "text/plain": [
       "<Figure size 432x288 with 2 Axes>"
      ]
     },
     "metadata": {
      "needs_background": "light"
     },
     "output_type": "display_data"
    }
   ],
   "source": [
    "# create heatmap to identify correlations\n",
    "\n",
    "sns.heatmap(by_year_ts[corr_vars].corr())"
   ]
  },
  {
   "cell_type": "code",
   "execution_count": 2,
   "id": "eada320c",
   "metadata": {},
   "outputs": [
    {
     "ename": "NameError",
     "evalue": "name 'by_year_ts' is not defined",
     "output_type": "error",
     "traceback": [
      "\u001b[0;31m---------------------------------------------------------------------------\u001b[0m",
      "\u001b[0;31mNameError\u001b[0m                                 Traceback (most recent call last)",
      "\u001b[0;32m/var/folders/cw/pcxt012s3td1d_ls_vc4g03h0000gn/T/ipykernel_22761/3324950232.py\u001b[0m in \u001b[0;36m<module>\u001b[0;34m\u001b[0m\n\u001b[1;32m      3\u001b[0m \u001b[0mfig\u001b[0m\u001b[0;34m,\u001b[0m \u001b[0maxes\u001b[0m \u001b[0;34m=\u001b[0m \u001b[0mplt\u001b[0m\u001b[0;34m.\u001b[0m\u001b[0msubplots\u001b[0m\u001b[0;34m(\u001b[0m\u001b[0mnrows\u001b[0m \u001b[0;34m=\u001b[0m \u001b[0;36m2\u001b[0m\u001b[0;34m,\u001b[0m \u001b[0mncols\u001b[0m \u001b[0;34m=\u001b[0m \u001b[0;36m2\u001b[0m\u001b[0;34m,\u001b[0m \u001b[0mfigsize\u001b[0m \u001b[0;34m=\u001b[0m \u001b[0;34m(\u001b[0m\u001b[0;36m10\u001b[0m\u001b[0;34m,\u001b[0m\u001b[0;36m10\u001b[0m\u001b[0;34m)\u001b[0m\u001b[0;34m)\u001b[0m\u001b[0;34m\u001b[0m\u001b[0;34m\u001b[0m\u001b[0m\n\u001b[1;32m      4\u001b[0m \u001b[0;34m\u001b[0m\u001b[0m\n\u001b[0;32m----> 5\u001b[0;31m \u001b[0mby_year_ts\u001b[0m\u001b[0;34m[\u001b[0m\u001b[0;34m'progunlaw_pct'\u001b[0m\u001b[0;34m]\u001b[0m\u001b[0;34m.\u001b[0m\u001b[0mplot\u001b[0m\u001b[0;34m(\u001b[0m\u001b[0mtitle\u001b[0m \u001b[0;34m=\u001b[0m \u001b[0;34m'Support gun purchase restrictions'\u001b[0m\u001b[0;34m,\u001b[0m \u001b[0mcolor\u001b[0m \u001b[0;34m=\u001b[0m \u001b[0;34m'g'\u001b[0m\u001b[0;34m,\u001b[0m \u001b[0max\u001b[0m \u001b[0;34m=\u001b[0m \u001b[0maxes\u001b[0m\u001b[0;34m[\u001b[0m\u001b[0;36m0\u001b[0m\u001b[0;34m,\u001b[0m\u001b[0;36m0\u001b[0m\u001b[0;34m]\u001b[0m\u001b[0;34m,\u001b[0m \u001b[0mgrid\u001b[0m \u001b[0;34m=\u001b[0m \u001b[0;32mTrue\u001b[0m\u001b[0;34m)\u001b[0m\u001b[0;34m\u001b[0m\u001b[0;34m\u001b[0m\u001b[0m\n\u001b[0m\u001b[1;32m      6\u001b[0m \u001b[0mby_year_ts\u001b[0m\u001b[0;34m[\u001b[0m\u001b[0;34m'ba_pct'\u001b[0m\u001b[0;34m]\u001b[0m\u001b[0;34m.\u001b[0m\u001b[0mplot\u001b[0m\u001b[0;34m(\u001b[0m\u001b[0mtitle\u001b[0m \u001b[0;34m=\u001b[0m \u001b[0;34m'Percent with BA Degrees'\u001b[0m\u001b[0;34m,\u001b[0m \u001b[0mcolor\u001b[0m \u001b[0;34m=\u001b[0m \u001b[0;34m'purple'\u001b[0m\u001b[0;34m,\u001b[0m \u001b[0max\u001b[0m \u001b[0;34m=\u001b[0m \u001b[0maxes\u001b[0m\u001b[0;34m[\u001b[0m\u001b[0;36m0\u001b[0m\u001b[0;34m,\u001b[0m\u001b[0;36m1\u001b[0m\u001b[0;34m]\u001b[0m\u001b[0;34m,\u001b[0m \u001b[0mgrid\u001b[0m \u001b[0;34m=\u001b[0m \u001b[0;32mTrue\u001b[0m\u001b[0;34m)\u001b[0m\u001b[0;34m\u001b[0m\u001b[0;34m\u001b[0m\u001b[0m\n\u001b[1;32m      7\u001b[0m \u001b[0mby_year_ts\u001b[0m\u001b[0;34m[\u001b[0m\u001b[0;34m'hapmar_pct'\u001b[0m\u001b[0;34m]\u001b[0m\u001b[0;34m.\u001b[0m\u001b[0mplot\u001b[0m\u001b[0;34m(\u001b[0m\u001b[0mtitle\u001b[0m \u001b[0;34m=\u001b[0m \u001b[0;34m'Percent happy in marrige'\u001b[0m\u001b[0;34m,\u001b[0m \u001b[0mcolor\u001b[0m \u001b[0;34m=\u001b[0m \u001b[0;34m'orange'\u001b[0m\u001b[0;34m,\u001b[0m \u001b[0max\u001b[0m \u001b[0;34m=\u001b[0m \u001b[0maxes\u001b[0m\u001b[0;34m[\u001b[0m\u001b[0;36m1\u001b[0m\u001b[0;34m,\u001b[0m\u001b[0;36m0\u001b[0m\u001b[0;34m]\u001b[0m\u001b[0;34m,\u001b[0m \u001b[0mgrid\u001b[0m \u001b[0;34m=\u001b[0m \u001b[0;32mTrue\u001b[0m\u001b[0;34m)\u001b[0m\u001b[0;34m\u001b[0m\u001b[0;34m\u001b[0m\u001b[0m\n",
      "\u001b[0;31mNameError\u001b[0m: name 'by_year_ts' is not defined"
     ]
    },
    {
     "data": {
      "image/png": "[encoded data removed]",
      "text/plain": [
       "<Figure size 1000x1000 with 4 Axes>"
      ]
     },
     "metadata": {},
     "output_type": "display_data"
    }
   ],
   "source": [
    "# create plots of variables over time\n",
    "\n",
    "fig, axes = plt.subplots(nrows = 2, ncols = 2, figsize = (10,10))\n",
    "\n",
    "by_year_ts['progunlaw_pct'].plot(title = 'Support gun purchase restrictions', color = 'g', ax = axes[0,0], grid = True)\n",
    "by_year_ts['ba_pct'].plot(title = 'Percent with BA Degrees', color = 'purple', ax = axes[0,1], grid = True)\n",
    "by_year_ts['hapmar_pct'].plot(title = 'Percent happy in marrige', color = 'orange', ax = axes[1,0], grid = True)\n",
    "by_year_ts['income'].plot(title = 'Income', color = 'b', ax = axes[1,1], grid = True)\n",
    "\n",
    "plt.show()"
   ]
  },
  {
   "cell_type": "markdown",
   "id": "a579c9a4",
   "metadata": {},
   "source": [
    "# 3. ​​Run ​​a ​​simple ​​time​ ​series ​​regression, ​​with ​​one ​​X ​​and ​​no ​​trend. ​​​​Interpret ​​it.​​​​"
   ]
  },
  {
   "cell_type": "code",
   "execution_count": 11,
   "id": "12e8ee66",
   "metadata": {},
   "outputs": [
    {
     "data": {
      "text/html": [
       "<table class=\"simpletable\">\n",
       "<caption>OLS Regression Results</caption>\n",
       "<tr>\n",
       "  <th>Dep. Variable:</th>       <td>gunlaw_pct</td>    <th>  R-squared:         </th> <td>   0.434</td>\n",
       "</tr>\n",
       "<tr>\n",
       "  <th>Model:</th>                   <td>OLS</td>       <th>  Adj. R-squared:    </th> <td>   0.419</td>\n",
       "</tr>\n",
       "<tr>\n",
       "  <th>Method:</th>             <td>Least Squares</td>  <th>  F-statistic:       </th> <td>   28.35</td>\n",
       "</tr>\n",
       "<tr>\n",
       "  <th>Date:</th>             <td>Sun, 11 Dec 2022</td> <th>  Prob (F-statistic):</th> <td>5.15e-06</td>\n",
       "</tr>\n",
       "<tr>\n",
       "  <th>Time:</th>                 <td>22:04:56</td>     <th>  Log-Likelihood:    </th> <td> -98.209</td>\n",
       "</tr>\n",
       "<tr>\n",
       "  <th>No. Observations:</th>      <td>    39</td>      <th>  AIC:               </th> <td>   200.4</td>\n",
       "</tr>\n",
       "<tr>\n",
       "  <th>Df Residuals:</th>          <td>    37</td>      <th>  BIC:               </th> <td>   203.7</td>\n",
       "</tr>\n",
       "<tr>\n",
       "  <th>Df Model:</th>              <td>     1</td>      <th>                     </th>     <td> </td>   \n",
       "</tr>\n",
       "<tr>\n",
       "  <th>Covariance Type:</th>      <td>nonrobust</td>    <th>                     </th>     <td> </td>   \n",
       "</tr>\n",
       "</table>\n",
       "<table class=\"simpletable\">\n",
       "<tr>\n",
       "      <td></td>         <th>coef</th>     <th>std err</th>      <th>t</th>      <th>P>|t|</th>  <th>[0.025</th>    <th>0.975]</th>  \n",
       "</tr>\n",
       "<tr>\n",
       "  <th>Intercept</th> <td>  133.0902</td> <td>    2.000</td> <td>   66.530</td> <td> 0.000</td> <td>  129.037</td> <td>  137.143</td>\n",
       "</tr>\n",
       "<tr>\n",
       "  <th>ba_pct</th>    <td>   -0.5067</td> <td>    0.095</td> <td>   -5.325</td> <td> 0.000</td> <td>   -0.700</td> <td>   -0.314</td>\n",
       "</tr>\n",
       "</table>\n",
       "<table class=\"simpletable\">\n",
       "<tr>\n",
       "  <th>Omnibus:</th>       <td> 1.587</td> <th>  Durbin-Watson:     </th> <td>   0.335</td>\n",
       "</tr>\n",
       "<tr>\n",
       "  <th>Prob(Omnibus):</th> <td> 0.452</td> <th>  Jarque-Bera (JB):  </th> <td>   1.261</td>\n",
       "</tr>\n",
       "<tr>\n",
       "  <th>Skew:</th>          <td> 0.436</td> <th>  Prob(JB):          </th> <td>   0.532</td>\n",
       "</tr>\n",
       "<tr>\n",
       "  <th>Kurtosis:</th>      <td> 2.871</td> <th>  Cond. No.          </th> <td>    85.4</td>\n",
       "</tr>\n",
       "</table><br/><br/>Notes:<br/>[1] Standard Errors assume that the covariance matrix of the errors is correctly specified."
      ],
      "text/plain": [
       "<class 'statsmodels.iolib.summary.Summary'>\n",
       "\"\"\"\n",
       "                            OLS Regression Results                            \n",
       "==============================================================================\n",
       "Dep. Variable:             gunlaw_pct   R-squared:                       0.434\n",
       "Model:                            OLS   Adj. R-squared:                  0.419\n",
       "Method:                 Least Squares   F-statistic:                     28.35\n",
       "Date:                Sun, 11 Dec 2022   Prob (F-statistic):           5.15e-06\n",
       "Time:                        22:04:56   Log-Likelihood:                -98.209\n",
       "No. Observations:                  39   AIC:                             200.4\n",
       "Df Residuals:                      37   BIC:                             203.7\n",
       "Df Model:                           1                                         \n",
       "Covariance Type:            nonrobust                                         \n",
       "==============================================================================\n",
       "                 coef    std err          t      P>|t|      [0.025      0.975]\n",
       "------------------------------------------------------------------------------\n",
       "Intercept    133.0902      2.000     66.530      0.000     129.037     137.143\n",
       "ba_pct        -0.5067      0.095     -5.325      0.000      -0.700      -0.314\n",
       "==============================================================================\n",
       "Omnibus:                        1.587   Durbin-Watson:                   0.335\n",
       "Prob(Omnibus):                  0.452   Jarque-Bera (JB):                1.261\n",
       "Skew:                           0.436   Prob(JB):                        0.532\n",
       "Kurtosis:                       2.871   Cond. No.                         85.4\n",
       "==============================================================================\n",
       "\n",
       "Notes:\n",
       "[1] Standard Errors assume that the covariance matrix of the errors is correctly specified.\n",
       "\"\"\""
      ]
     },
     "execution_count": 11,
     "metadata": {},
     "output_type": "execute_result"
    }
   ],
   "source": [
    "# run time series regression\n",
    "\n",
    "lm_progunlaw = smf.ols('progunlaw_pct ~ ba_pct', data = by_year_ts).fit()\n",
    "lm_progunlaw.summary()"
   ]
  },
  {
   "cell_type": "markdown",
   "id": "08f66dbb",
   "metadata": {},
   "source": [
    "The model showed that  every time the degree increases by 1, the support to gun purchase restrictions rose by 0.51 points; it is highly statistically significant (p<.01). The adjusted R-squared for this model is 0.419, which suggests that we can explain about 42% of the change in attitudes about gun restrictions with this model."
   ]
  },
  {
   "cell_type": "markdown",
   "id": "dc4152f0",
   "metadata": {},
   "source": [
    "# 4. Run a time series regression with one X and trend. Interpret it. Perform autocorrelation diagnostics. Explain what you found."
   ]
  },
  {
   "cell_type": "code",
   "execution_count": 12,
   "id": "a2c2cf1c",
   "metadata": {},
   "outputs": [
    {
     "data": {
      "text/html": [
       "<table class=\"simpletable\">\n",
       "<caption>OLS Regression Results</caption>\n",
       "<tr>\n",
       "  <th>Dep. Variable:</th>       <td>gunlaw_pct</td>    <th>  R-squared:         </th> <td>   0.463</td>\n",
       "</tr>\n",
       "<tr>\n",
       "  <th>Model:</th>                   <td>OLS</td>       <th>  Adj. R-squared:    </th> <td>   0.433</td>\n",
       "</tr>\n",
       "<tr>\n",
       "  <th>Method:</th>             <td>Least Squares</td>  <th>  F-statistic:       </th> <td>   15.52</td>\n",
       "</tr>\n",
       "<tr>\n",
       "  <th>Date:</th>             <td>Sun, 11 Dec 2022</td> <th>  Prob (F-statistic):</th> <td>1.38e-05</td>\n",
       "</tr>\n",
       "<tr>\n",
       "  <th>Time:</th>                 <td>22:04:57</td>     <th>  Log-Likelihood:    </th> <td> -97.180</td>\n",
       "</tr>\n",
       "<tr>\n",
       "  <th>No. Observations:</th>      <td>    39</td>      <th>  AIC:               </th> <td>   200.4</td>\n",
       "</tr>\n",
       "<tr>\n",
       "  <th>Df Residuals:</th>          <td>    36</td>      <th>  BIC:               </th> <td>   205.3</td>\n",
       "</tr>\n",
       "<tr>\n",
       "  <th>Df Model:</th>              <td>     2</td>      <th>                     </th>     <td> </td>   \n",
       "</tr>\n",
       "<tr>\n",
       "  <th>Covariance Type:</th>      <td>nonrobust</td>    <th>                     </th>     <td> </td>   \n",
       "</tr>\n",
       "</table>\n",
       "<table class=\"simpletable\">\n",
       "<tr>\n",
       "      <td></td>         <th>coef</th>     <th>std err</th>      <th>t</th>      <th>P>|t|</th>  <th>[0.025</th>    <th>0.975]</th>  \n",
       "</tr>\n",
       "<tr>\n",
       "  <th>Intercept</th> <td> -417.6650</td> <td>  394.339</td> <td>   -1.059</td> <td> 0.297</td> <td>-1217.422</td> <td>  382.092</td>\n",
       "</tr>\n",
       "<tr>\n",
       "  <th>ba_pct</th>    <td>   -1.1138</td> <td>    0.445</td> <td>   -2.505</td> <td> 0.017</td> <td>   -2.016</td> <td>   -0.212</td>\n",
       "</tr>\n",
       "<tr>\n",
       "  <th>year</th>      <td>    0.2828</td> <td>    0.202</td> <td>    1.397</td> <td> 0.171</td> <td>   -0.128</td> <td>    0.694</td>\n",
       "</tr>\n",
       "</table>\n",
       "<table class=\"simpletable\">\n",
       "<tr>\n",
       "  <th>Omnibus:</th>       <td> 1.138</td> <th>  Durbin-Watson:     </th> <td>   0.551</td>\n",
       "</tr>\n",
       "<tr>\n",
       "  <th>Prob(Omnibus):</th> <td> 0.566</td> <th>  Jarque-Bera (JB):  </th> <td>   1.140</td>\n",
       "</tr>\n",
       "<tr>\n",
       "  <th>Skew:</th>          <td> 0.359</td> <th>  Prob(JB):          </th> <td>   0.565</td>\n",
       "</tr>\n",
       "<tr>\n",
       "  <th>Kurtosis:</th>      <td> 2.570</td> <th>  Cond. No.          </th> <td>1.61e+06</td>\n",
       "</tr>\n",
       "</table><br/><br/>Notes:<br/>[1] Standard Errors assume that the covariance matrix of the errors is correctly specified.<br/>[2] The condition number is large, 1.61e+06. This might indicate that there are<br/>strong multicollinearity or other numerical problems."
      ],
      "text/plain": [
       "<class 'statsmodels.iolib.summary.Summary'>\n",
       "\"\"\"\n",
       "                            OLS Regression Results                            \n",
       "==============================================================================\n",
       "Dep. Variable:             gunlaw_pct   R-squared:                       0.463\n",
       "Model:                            OLS   Adj. R-squared:                  0.433\n",
       "Method:                 Least Squares   F-statistic:                     15.52\n",
       "Date:                Sun, 11 Dec 2022   Prob (F-statistic):           1.38e-05\n",
       "Time:                        22:04:57   Log-Likelihood:                -97.180\n",
       "No. Observations:                  39   AIC:                             200.4\n",
       "Df Residuals:                      36   BIC:                             205.3\n",
       "Df Model:                           2                                         \n",
       "Covariance Type:            nonrobust                                         \n",
       "==============================================================================\n",
       "                 coef    std err          t      P>|t|      [0.025      0.975]\n",
       "------------------------------------------------------------------------------\n",
       "Intercept   -417.6650    394.339     -1.059      0.297   -1217.422     382.092\n",
       "ba_pct        -1.1138      0.445     -2.505      0.017      -2.016      -0.212\n",
       "year           0.2828      0.202      1.397      0.171      -0.128       0.694\n",
       "==============================================================================\n",
       "Omnibus:                        1.138   Durbin-Watson:                   0.551\n",
       "Prob(Omnibus):                  0.566   Jarque-Bera (JB):                1.140\n",
       "Skew:                           0.359   Prob(JB):                        0.565\n",
       "Kurtosis:                       2.570   Cond. No.                     1.61e+06\n",
       "==============================================================================\n",
       "\n",
       "Notes:\n",
       "[1] Standard Errors assume that the covariance matrix of the errors is correctly specified.\n",
       "[2] The condition number is large, 1.61e+06. This might indicate that there are\n",
       "strong multicollinearity or other numerical problems.\n",
       "\"\"\""
      ]
     },
     "execution_count": 12,
     "metadata": {},
     "output_type": "execute_result"
    }
   ],
   "source": [
    "lm_progunlaw2 = smf.ols('progunlaw_pct ~ ba_pct + year', data = by_year_ts).fit()\n",
    "lm_progunlaw2.summary()"
   ]
  },
  {
   "cell_type": "markdown",
   "id": "cd7eaf9d",
   "metadata": {},
   "source": [
    "The model showed that every time the Degree increases by 1, the support for gun purchase restrictions rose by 1.11 over time; it is statistically significant. The adjusted R-squared for this model is 0.433, which suggests that we can explain about 43% of the change in attitudes about gun restrictions with this model."
   ]
  },
  {
   "cell_type": "code",
   "execution_count": 13,
   "id": "44d419d9",
   "metadata": {},
   "outputs": [
    {
     "data": {
      "text/plain": [
       "[('BP', 5.161547873310492),\n",
       " ('p-value', 0.0757153824312428),\n",
       " ('f-value', 2.745629775609901),\n",
       " ('f p-value', 0.07766509419178695)]"
      ]
     },
     "execution_count": 13,
     "metadata": {},
     "output_type": "execute_result"
    }
   ],
   "source": [
    "name = ['BP', 'p-value', 'f-value', 'f p-value']\n",
    "\n",
    "test2 = sm.stats.diagnostic.het_breuschpagan(lm_progunlaw2.resid, lm_progunlaw2.model.exog)\n",
    "lzip(name, test2)"
   ]
  },
  {
   "cell_type": "code",
   "execution_count": 14,
   "id": "1e43c427",
   "metadata": {},
   "outputs": [
    {
     "data": {
      "text/plain": [
       "array([ 1.        ,  0.65923501,  0.33051458,  0.19438298,  0.11910923,\n",
       "        0.06218419,  0.07718561,  0.11127341, -0.00391321, -0.06966914,\n",
       "       -0.14759075, -0.30127557, -0.4416825 , -0.41098434, -0.26488722,\n",
       "       -0.19090861])"
      ]
     },
     "execution_count": 14,
     "metadata": {},
     "output_type": "execute_result"
    }
   ],
   "source": [
    "err2 = lm_progunlaw2.resid\n",
    "acf(err2)"
   ]
  },
  {
   "cell_type": "code",
   "execution_count": 15,
   "id": "24e1eb7c",
   "metadata": {},
   "outputs": [
    {
     "name": "stderr",
     "output_type": "stream",
     "text": [
      "/Users/gua/opt/anaconda3/lib/python3.9/site-packages/statsmodels/graphics/tsaplots.py:348: FutureWarning: The default method 'yw' can produce PACF values outside of the [-1,1] interval. After 0.13, the default will change tounadjusted Yule-Walker ('ywm'). You can use this method now by setting method='ywm'.\n",
      "  warnings.warn(\n"
     ]
    },
    {
     "data": {
      "image/png": "[encoded data removed]",
      "text/plain": [
       "<Figure size 576x576 with 2 Axes>"
      ]
     },
     "metadata": {
      "needs_background": "light"
     },
     "output_type": "display_data"
    }
   ],
   "source": [
    "fig, ax = plt.subplots(2, 1, figsize=(8, 8))\n",
    "plot_acf(err2, lags = 8, zero = False, ax = ax[0]);\n",
    "plot_pacf(err2, lags = 8, zero = False, ax = ax[1]);\n",
    "plt.show()"
   ]
  },
  {
   "cell_type": "code",
   "execution_count": 16,
   "id": "1f0b14a0",
   "metadata": {},
   "outputs": [
    {
     "name": "stdout",
     "output_type": "stream",
     "text": [
      "Durbin Watson statistic: 0.5510005610327039\n",
      "LM test = 22.36391973044164\n",
      "p-value = 2.255721473254096e-06\n"
     ]
    }
   ],
   "source": [
    "print('Durbin Watson statistic:', durbin_watson(err2))\n",
    "\n",
    "lmtest2, pval2, fval2, f_pval2 = acorr_breusch_godfrey(lm_progunlaw2, nlags = 1)\n",
    "print('LM test =', lmtest2)\n",
    "print('p-value =', pval2)"
   ]
  },
  {
   "cell_type": "markdown",
   "id": "9ac405c6",
   "metadata": {},
   "source": [
    "# ​​5.​​ Consider ​​running ​​a ​​time ​​series ​​regression ​​with ​​many ​​Xs ​​and ​​trend. ​​​​Interpret ​​that. Check VIF.¶"
   ]
  },
  {
   "cell_type": "code",
   "execution_count": 18,
   "id": "225beb34",
   "metadata": {},
   "outputs": [
    {
     "data": {
      "text/html": [
       "<table class=\"simpletable\">\n",
       "<caption>OLS Regression Results</caption>\n",
       "<tr>\n",
       "  <th>Dep. Variable:</th>       <td>gunlaw_pct</td>    <th>  R-squared:         </th> <td>   0.500</td>\n",
       "</tr>\n",
       "<tr>\n",
       "  <th>Model:</th>                   <td>OLS</td>       <th>  Adj. R-squared:    </th> <td>   0.439</td>\n",
       "</tr>\n",
       "<tr>\n",
       "  <th>Method:</th>             <td>Least Squares</td>  <th>  F-statistic:       </th> <td>   8.253</td>\n",
       "</tr>\n",
       "<tr>\n",
       "  <th>Date:</th>             <td>Sun, 11 Dec 2022</td> <th>  Prob (F-statistic):</th> <td>9.95e-05</td>\n",
       "</tr>\n",
       "<tr>\n",
       "  <th>Time:</th>                 <td>22:06:17</td>     <th>  Log-Likelihood:    </th> <td> -93.074</td>\n",
       "</tr>\n",
       "<tr>\n",
       "  <th>No. Observations:</th>      <td>    38</td>      <th>  AIC:               </th> <td>   196.1</td>\n",
       "</tr>\n",
       "<tr>\n",
       "  <th>Df Residuals:</th>          <td>    33</td>      <th>  BIC:               </th> <td>   204.3</td>\n",
       "</tr>\n",
       "<tr>\n",
       "  <th>Df Model:</th>              <td>     4</td>      <th>                     </th>     <td> </td>   \n",
       "</tr>\n",
       "<tr>\n",
       "  <th>Covariance Type:</th>      <td>nonrobust</td>    <th>                     </th>     <td> </td>   \n",
       "</tr>\n",
       "</table>\n",
       "<table class=\"simpletable\">\n",
       "<tr>\n",
       "       <td></td>         <th>coef</th>     <th>std err</th>      <th>t</th>      <th>P>|t|</th>  <th>[0.025</th>    <th>0.975]</th>  \n",
       "</tr>\n",
       "<tr>\n",
       "  <th>Intercept</th>  <td>  -53.5501</td> <td>  528.511</td> <td>   -0.101</td> <td> 0.920</td> <td>-1128.813</td> <td> 1021.713</td>\n",
       "</tr>\n",
       "<tr>\n",
       "  <th>age</th>        <td>    1.8497</td> <td>    1.071</td> <td>    1.727</td> <td> 0.094</td> <td>   -0.330</td> <td>    4.029</td>\n",
       "</tr>\n",
       "<tr>\n",
       "  <th>ba_pct</th>     <td>   -0.9287</td> <td>    0.464</td> <td>   -2.001</td> <td> 0.054</td> <td>   -1.873</td> <td>    0.015</td>\n",
       "</tr>\n",
       "<tr>\n",
       "  <th>hapmar_pct</th> <td>    0.0115</td> <td>    0.119</td> <td>    0.097</td> <td> 0.924</td> <td>   -0.231</td> <td>    0.254</td>\n",
       "</tr>\n",
       "<tr>\n",
       "  <th>year</th>       <td>    0.0555</td> <td>    0.283</td> <td>    0.196</td> <td> 0.846</td> <td>   -0.521</td> <td>    0.632</td>\n",
       "</tr>\n",
       "</table>\n",
       "<table class=\"simpletable\">\n",
       "<tr>\n",
       "  <th>Omnibus:</th>       <td> 2.442</td> <th>  Durbin-Watson:     </th> <td>   0.600</td>\n",
       "</tr>\n",
       "<tr>\n",
       "  <th>Prob(Omnibus):</th> <td> 0.295</td> <th>  Jarque-Bera (JB):  </th> <td>   1.520</td>\n",
       "</tr>\n",
       "<tr>\n",
       "  <th>Skew:</th>          <td> 0.223</td> <th>  Prob(JB):          </th> <td>   0.468</td>\n",
       "</tr>\n",
       "<tr>\n",
       "  <th>Kurtosis:</th>      <td> 2.127</td> <th>  Cond. No.          </th> <td>2.16e+06</td>\n",
       "</tr>\n",
       "</table><br/><br/>Notes:<br/>[1] Standard Errors assume that the covariance matrix of the errors is correctly specified.<br/>[2] The condition number is large, 2.16e+06. This might indicate that there are<br/>strong multicollinearity or other numerical problems."
      ],
      "text/plain": [
       "<class 'statsmodels.iolib.summary.Summary'>\n",
       "\"\"\"\n",
       "                            OLS Regression Results                            \n",
       "==============================================================================\n",
       "Dep. Variable:             gunlaw_pct   R-squared:                       0.500\n",
       "Model:                            OLS   Adj. R-squared:                  0.439\n",
       "Method:                 Least Squares   F-statistic:                     8.253\n",
       "Date:                Sun, 11 Dec 2022   Prob (F-statistic):           9.95e-05\n",
       "Time:                        22:06:17   Log-Likelihood:                -93.074\n",
       "No. Observations:                  38   AIC:                             196.1\n",
       "Df Residuals:                      33   BIC:                             204.3\n",
       "Df Model:                           4                                         \n",
       "Covariance Type:            nonrobust                                         \n",
       "==============================================================================\n",
       "                 coef    std err          t      P>|t|      [0.025      0.975]\n",
       "------------------------------------------------------------------------------\n",
       "Intercept    -53.5501    528.511     -0.101      0.920   -1128.813    1021.713\n",
       "age            1.8497      1.071      1.727      0.094      -0.330       4.029\n",
       "ba_pct        -0.9287      0.464     -2.001      0.054      -1.873       0.015\n",
       "hapmar_pct     0.0115      0.119      0.097      0.924      -0.231       0.254\n",
       "year           0.0555      0.283      0.196      0.846      -0.521       0.632\n",
       "==============================================================================\n",
       "Omnibus:                        2.442   Durbin-Watson:                   0.600\n",
       "Prob(Omnibus):                  0.295   Jarque-Bera (JB):                1.520\n",
       "Skew:                           0.223   Prob(JB):                        0.468\n",
       "Kurtosis:                       2.127   Cond. No.                     2.16e+06\n",
       "==============================================================================\n",
       "\n",
       "Notes:\n",
       "[1] Standard Errors assume that the covariance matrix of the errors is correctly specified.\n",
       "[2] The condition number is large, 2.16e+06. This might indicate that there are\n",
       "strong multicollinearity or other numerical problems.\n",
       "\"\"\""
      ]
     },
     "execution_count": 18,
     "metadata": {},
     "output_type": "execute_result"
    }
   ],
   "source": [
    "lm_progunlaw3 = smf.ols('progunlaw_pct ~ age + ba_pct + hapmar_pct + year', data = by_year_ts).fit()\n",
    "lm_progunlaw3.summary()"
   ]
  },
  {
   "cell_type": "markdown",
   "id": "6a08698d",
   "metadata": {},
   "source": [
    "The results show that only degree is negatively correlated with gunlaw scores, while other variables are positively correlated with gunlaw scores."
   ]
  },
  {
   "cell_type": "code",
   "execution_count": 19,
   "id": "f30fa727",
   "metadata": {},
   "outputs": [
    {
     "data": {
      "text/html": [
       "<div>\n",
       "<style scoped>\n",
       "    .dataframe tbody tr th:only-of-type {\n",
       "        vertical-align: middle;\n",
       "    }\n",
       "\n",
       "    .dataframe tbody tr th {\n",
       "        vertical-align: top;\n",
       "    }\n",
       "\n",
       "    .dataframe thead th {\n",
       "        text-align: right;\n",
       "    }\n",
       "</style>\n",
       "<table border=\"1\" class=\"dataframe\">\n",
       "  <thead>\n",
       "    <tr style=\"text-align: right;\">\n",
       "      <th></th>\n",
       "      <th>VIR Factor</th>\n",
       "      <th>features</th>\n",
       "    </tr>\n",
       "  </thead>\n",
       "  <tbody>\n",
       "    <tr>\n",
       "      <th>1</th>\n",
       "      <td>5.316117</td>\n",
       "      <td>age</td>\n",
       "    </tr>\n",
       "    <tr>\n",
       "      <th>2</th>\n",
       "      <td>22.794244</td>\n",
       "      <td>ba_pct</td>\n",
       "    </tr>\n",
       "    <tr>\n",
       "      <th>3</th>\n",
       "      <td>4.573329</td>\n",
       "      <td>hapmar_pct</td>\n",
       "    </tr>\n",
       "    <tr>\n",
       "      <th>4</th>\n",
       "      <td>41.622933</td>\n",
       "      <td>year</td>\n",
       "    </tr>\n",
       "  </tbody>\n",
       "</table>\n",
       "</div>"
      ],
      "text/plain": [
       "   VIR Factor    features\n",
       "1    5.316117         age\n",
       "2   22.794244      ba_pct\n",
       "3    4.573329  hapmar_pct\n",
       "4   41.622933        year"
      ]
     },
     "execution_count": 19,
     "metadata": {},
     "output_type": "execute_result"
    }
   ],
   "source": [
    "y, X = dmatrices('progunlaw_pct ~ age + ba_pct + hapmar_pct + year',\n",
    "                 data = by_year_ts, return_type = 'dataframe')\n",
    "\n",
    "vif = pd.DataFrame()\n",
    "vif['VIR Factor'] = [variance_inflation_factor(X.values, i) for i in range(X.shape[1])]\n",
    "vif['features'] = X.columns\n",
    "vif.iloc[1:]"
   ]
  },
  {
   "cell_type": "markdown",
   "id": "e4181317",
   "metadata": {},
   "source": [
    "# 6. Run a first-differenced time series regression. Interpret that."
   ]
  },
  {
   "cell_type": "code",
   "execution_count": 20,
   "id": "1c34b818",
   "metadata": {},
   "outputs": [],
   "source": [
    "by_yearFD = pd.DataFrame()\n",
    "\n",
    "by_yearFD = by_year_ts[['progunlaw_pct', 'age', 'ba_pct', 'hapmar_pct']]\n",
    "by_yearFD = by_yearFD.diff()\n",
    "\n",
    "by_yearFD['year'] = by_year_ts['year']"
   ]
  },
  {
   "cell_type": "code",
   "execution_count": 21,
   "id": "773eb1ff",
   "metadata": {},
   "outputs": [
    {
     "data": {
      "text/html": [
       "<table class=\"simpletable\">\n",
       "<caption>OLS Regression Results</caption>\n",
       "<tr>\n",
       "  <th>Dep. Variable:</th>       <td>gunlaw_pct</td>    <th>  R-squared:         </th> <td>   0.123</td>\n",
       "</tr>\n",
       "<tr>\n",
       "  <th>Model:</th>                   <td>OLS</td>       <th>  Adj. R-squared:    </th> <td>   0.073</td>\n",
       "</tr>\n",
       "<tr>\n",
       "  <th>Method:</th>             <td>Least Squares</td>  <th>  F-statistic:       </th> <td>   2.448</td>\n",
       "</tr>\n",
       "<tr>\n",
       "  <th>Date:</th>             <td>Sun, 11 Dec 2022</td> <th>  Prob (F-statistic):</th>  <td> 0.101</td> \n",
       "</tr>\n",
       "<tr>\n",
       "  <th>Time:</th>                 <td>22:06:20</td>     <th>  Log-Likelihood:    </th> <td> -67.462</td>\n",
       "</tr>\n",
       "<tr>\n",
       "  <th>No. Observations:</th>      <td>    38</td>      <th>  AIC:               </th> <td>   140.9</td>\n",
       "</tr>\n",
       "<tr>\n",
       "  <th>Df Residuals:</th>          <td>    35</td>      <th>  BIC:               </th> <td>   145.8</td>\n",
       "</tr>\n",
       "<tr>\n",
       "  <th>Df Model:</th>              <td>     2</td>      <th>                     </th>     <td> </td>   \n",
       "</tr>\n",
       "<tr>\n",
       "  <th>Covariance Type:</th>      <td>nonrobust</td>    <th>                     </th>     <td> </td>   \n",
       "</tr>\n",
       "</table>\n",
       "<table class=\"simpletable\">\n",
       "<tr>\n",
       "      <td></td>         <th>coef</th>     <th>std err</th>      <th>t</th>      <th>P>|t|</th>  <th>[0.025</th>    <th>0.975]</th>  \n",
       "</tr>\n",
       "<tr>\n",
       "  <th>Intercept</th> <td>  -76.9454</td> <td>   43.395</td> <td>   -1.773</td> <td> 0.085</td> <td> -165.042</td> <td>   11.151</td>\n",
       "</tr>\n",
       "<tr>\n",
       "  <th>ba_pct</th>    <td>    0.2950</td> <td>    0.206</td> <td>    1.434</td> <td> 0.160</td> <td>   -0.123</td> <td>    0.713</td>\n",
       "</tr>\n",
       "<tr>\n",
       "  <th>year</th>      <td>    0.0386</td> <td>    0.022</td> <td>    1.770</td> <td> 0.086</td> <td>   -0.006</td> <td>    0.083</td>\n",
       "</tr>\n",
       "</table>\n",
       "<table class=\"simpletable\">\n",
       "<tr>\n",
       "  <th>Omnibus:</th>       <td> 2.161</td> <th>  Durbin-Watson:     </th> <td>   1.308</td>\n",
       "</tr>\n",
       "<tr>\n",
       "  <th>Prob(Omnibus):</th> <td> 0.339</td> <th>  Jarque-Bera (JB):  </th> <td>   1.260</td>\n",
       "</tr>\n",
       "<tr>\n",
       "  <th>Skew:</th>          <td> 0.418</td> <th>  Prob(JB):          </th> <td>   0.533</td>\n",
       "</tr>\n",
       "<tr>\n",
       "  <th>Kurtosis:</th>      <td> 3.310</td> <th>  Cond. No.          </th> <td>3.58e+05</td>\n",
       "</tr>\n",
       "</table><br/><br/>Notes:<br/>[1] Standard Errors assume that the covariance matrix of the errors is correctly specified.<br/>[2] The condition number is large, 3.58e+05. This might indicate that there are<br/>strong multicollinearity or other numerical problems."
      ],
      "text/plain": [
       "<class 'statsmodels.iolib.summary.Summary'>\n",
       "\"\"\"\n",
       "                            OLS Regression Results                            \n",
       "==============================================================================\n",
       "Dep. Variable:             gunlaw_pct   R-squared:                       0.123\n",
       "Model:                            OLS   Adj. R-squared:                  0.073\n",
       "Method:                 Least Squares   F-statistic:                     2.448\n",
       "Date:                Sun, 11 Dec 2022   Prob (F-statistic):              0.101\n",
       "Time:                        22:06:20   Log-Likelihood:                -67.462\n",
       "No. Observations:                  38   AIC:                             140.9\n",
       "Df Residuals:                      35   BIC:                             145.8\n",
       "Df Model:                           2                                         \n",
       "Covariance Type:            nonrobust                                         \n",
       "==============================================================================\n",
       "                 coef    std err          t      P>|t|      [0.025      0.975]\n",
       "------------------------------------------------------------------------------\n",
       "Intercept    -76.9454     43.395     -1.773      0.085    -165.042      11.151\n",
       "ba_pct         0.2950      0.206      1.434      0.160      -0.123       0.713\n",
       "year           0.0386      0.022      1.770      0.086      -0.006       0.083\n",
       "==============================================================================\n",
       "Omnibus:                        2.161   Durbin-Watson:                   1.308\n",
       "Prob(Omnibus):                  0.339   Jarque-Bera (JB):                1.260\n",
       "Skew:                           0.418   Prob(JB):                        0.533\n",
       "Kurtosis:                       3.310   Cond. No.                     3.58e+05\n",
       "==============================================================================\n",
       "\n",
       "Notes:\n",
       "[1] Standard Errors assume that the covariance matrix of the errors is correctly specified.\n",
       "[2] The condition number is large, 3.58e+05. This might indicate that there are\n",
       "strong multicollinearity or other numerical problems.\n",
       "\"\"\""
      ]
     },
     "execution_count": 21,
     "metadata": {},
     "output_type": "execute_result"
    }
   ],
   "source": [
    "lm_progunlaw4 = smf.ols('progunlaw_pct ~ ba_pct + year', data = by_yearFD).fit()\n",
    "lm_progunlaw4.summary()"
   ]
  },
  {
   "cell_type": "markdown",
   "id": "e1e4c3c8",
   "metadata": {},
   "source": [
    "The model showed that every time the degree increases by 1, the support to gun purchase restrictions rose by 0.3 points; it is statistically significant. The adjusted R-squared for this model is 0.073, which suggests that we can explain about 7% of the change in attitudes about gun restrictions with this model."
   ]
  },
  {
   "cell_type": "markdown",
   "id": "a4b594bd",
   "metadata": {},
   "source": [
    "# 7. Check your variables for unit roots. Do some test. Interpret them."
   ]
  },
  {
   "cell_type": "code",
   "execution_count": 22,
   "id": "85e048a1",
   "metadata": {},
   "outputs": [
    {
     "data": {
      "text/html": [
       "<table class=\"simpletable\">\n",
       "<caption>Augmented Dickey-Fuller Results</caption>\n",
       "<tr>\n",
       "  <td>Test Statistic</td>    <td>-1.204</td>\n",
       "</tr>\n",
       "<tr>\n",
       "  <td>P-value</td>            <td>0.672</td>\n",
       "</tr>\n",
       "<tr>\n",
       "  <td>Lags</td>                   <td>3</td>\n",
       "</tr>\n",
       "</table><br/><br/>Trend: Constant<br/>Critical Values: -3.63 (1%), -2.95 (5%), -2.61 (10%)<br/>Null Hypothesis: The process contains a unit root.<br/>Alternative Hypothesis: The process is weakly stationary."
      ],
      "text/plain": [
       "<class 'arch.unitroot.unitroot.ADF'>\n",
       "\"\"\"\n",
       "   Augmented Dickey-Fuller Results   \n",
       "=====================================\n",
       "Test Statistic                 -1.204\n",
       "P-value                         0.672\n",
       "Lags                                3\n",
       "-------------------------------------\n",
       "\n",
       "Trend: Constant\n",
       "Critical Values: -3.63 (1%), -2.95 (5%), -2.61 (10%)\n",
       "Null Hypothesis: The process contains a unit root.\n",
       "Alternative Hypothesis: The process is weakly stationary.\n",
       "\"\"\""
      ]
     },
     "execution_count": 22,
     "metadata": {},
     "output_type": "execute_result"
    }
   ],
   "source": [
    "ADF(by_year_ts['progunlaw_pct'], lags = int(4*(len(by_year_ts)/100)**(2/9)), trend = 'c')"
   ]
  },
  {
   "cell_type": "code",
   "execution_count": 23,
   "id": "e869bf6a",
   "metadata": {},
   "outputs": [
    {
     "data": {
      "text/html": [
       "<table class=\"simpletable\">\n",
       "<caption>Dickey-Fuller GLS Results</caption>\n",
       "<tr>\n",
       "  <td>Test Statistic</td>    <td>-1.099</td>\n",
       "</tr>\n",
       "<tr>\n",
       "  <td>P-value</td>            <td>0.254</td>\n",
       "</tr>\n",
       "<tr>\n",
       "  <td>Lags</td>                   <td>3</td>\n",
       "</tr>\n",
       "</table><br/><br/>Trend: Constant<br/>Critical Values: -3.05 (1%), -2.40 (5%), -2.09 (10%)<br/>Null Hypothesis: The process contains a unit root.<br/>Alternative Hypothesis: The process is weakly stationary."
      ],
      "text/plain": [
       "<class 'arch.unitroot.unitroot.DFGLS'>\n",
       "\"\"\"\n",
       "      Dickey-Fuller GLS Results      \n",
       "=====================================\n",
       "Test Statistic                 -1.099\n",
       "P-value                         0.254\n",
       "Lags                                3\n",
       "-------------------------------------\n",
       "\n",
       "Trend: Constant\n",
       "Critical Values: -3.05 (1%), -2.40 (5%), -2.09 (10%)\n",
       "Null Hypothesis: The process contains a unit root.\n",
       "Alternative Hypothesis: The process is weakly stationary.\n",
       "\"\"\""
      ]
     },
     "execution_count": 23,
     "metadata": {},
     "output_type": "execute_result"
    }
   ],
   "source": [
    "DFGLS(by_year_ts['progunlaw_pct'], lags = int(4*(len(by_year_ts)/100)**(2/9)), trend = 'c')"
   ]
  },
  {
   "cell_type": "code",
   "execution_count": 24,
   "id": "04fe56b8",
   "metadata": {},
   "outputs": [
    {
     "data": {
      "text/html": [
       "<table class=\"simpletable\">\n",
       "<caption>Phillips-Perron Test (Z-tau)</caption>\n",
       "<tr>\n",
       "  <td>Test Statistic</td>    <td>-1.519</td>\n",
       "</tr>\n",
       "<tr>\n",
       "  <td>P-value</td>            <td>0.524</td>\n",
       "</tr>\n",
       "<tr>\n",
       "  <td>Lags</td>                   <td>3</td>\n",
       "</tr>\n",
       "</table><br/><br/>Trend: Constant<br/>Critical Values: -3.62 (1%), -2.94 (5%), -2.61 (10%)<br/>Null Hypothesis: The process contains a unit root.<br/>Alternative Hypothesis: The process is weakly stationary."
      ],
      "text/plain": [
       "<class 'arch.unitroot.unitroot.PhillipsPerron'>\n",
       "\"\"\"\n",
       "     Phillips-Perron Test (Z-tau)    \n",
       "=====================================\n",
       "Test Statistic                 -1.519\n",
       "P-value                         0.524\n",
       "Lags                                3\n",
       "-------------------------------------\n",
       "\n",
       "Trend: Constant\n",
       "Critical Values: -3.62 (1%), -2.94 (5%), -2.61 (10%)\n",
       "Null Hypothesis: The process contains a unit root.\n",
       "Alternative Hypothesis: The process is weakly stationary.\n",
       "\"\"\""
      ]
     },
     "execution_count": 24,
     "metadata": {},
     "output_type": "execute_result"
    }
   ],
   "source": [
    "PhillipsPerron(by_year_ts['progunlaw_pct'], lags = 3)"
   ]
  },
  {
   "cell_type": "markdown",
   "id": "7214adff",
   "metadata": {},
   "source": [
    "# 8. Perform an Automatic ARIMA on the residuals from one of your earlier models. Tell me what it says.¶"
   ]
  },
  {
   "cell_type": "code",
   "execution_count": 25,
   "id": "975a0c09",
   "metadata": {},
   "outputs": [
    {
     "name": "stdout",
     "output_type": "stream",
     "text": [
      "Performing stepwise search to minimize bic\n",
      " ARIMA(2,0,2)(0,0,0)[0] intercept   : BIC=189.191, Time=0.08 sec\n",
      " ARIMA(0,0,0)(0,0,0)[0] intercept   : BIC=201.686, Time=0.01 sec\n",
      " ARIMA(1,0,0)(0,0,0)[0] intercept   : BIC=179.032, Time=0.01 sec\n",
      " ARIMA(0,0,1)(0,0,0)[0] intercept   : BIC=184.972, Time=0.01 sec\n",
      " ARIMA(0,0,0)(0,0,0)[0]             : BIC=198.023, Time=0.00 sec\n",
      " ARIMA(2,0,0)(0,0,0)[0] intercept   : BIC=181.948, Time=0.01 sec\n",
      " ARIMA(1,0,1)(0,0,0)[0] intercept   : BIC=181.926, Time=0.01 sec\n",
      " ARIMA(2,0,1)(0,0,0)[0] intercept   : BIC=185.587, Time=0.02 sec\n",
      " ARIMA(1,0,0)(0,0,0)[0]             : BIC=175.480, Time=0.01 sec\n",
      " ARIMA(2,0,0)(0,0,0)[0]             : BIC=178.346, Time=0.01 sec\n",
      " ARIMA(1,0,1)(0,0,0)[0]             : BIC=178.328, Time=0.01 sec\n",
      " ARIMA(0,0,1)(0,0,0)[0]             : BIC=181.316, Time=0.01 sec\n",
      " ARIMA(2,0,1)(0,0,0)[0]             : BIC=181.987, Time=0.02 sec\n",
      "\n",
      "Best model:  ARIMA(1,0,0)(0,0,0)[0]          \n",
      "Total fit time: 0.219 seconds\n"
     ]
    },
    {
     "data": {
      "text/plain": [
       "ARIMA(order=(1, 0, 0), scoring_args={}, suppress_warnings=True,\n",
       "      with_intercept=False)"
      ]
     },
     "execution_count": 25,
     "metadata": {},
     "output_type": "execute_result"
    }
   ],
   "source": [
    "warnings.filterwarnings(\"ignore\")\n",
    "\n",
    "auto_arima(err2, trace = True, test = 'kpss', information_criterion = 'bic')"
   ]
  },
  {
   "cell_type": "markdown",
   "id": "307d8836",
   "metadata": {},
   "source": [
    "# 9. Run an ARIMA that follows from Step 8. Interpret that, too."
   ]
  },
  {
   "cell_type": "code",
   "execution_count": 26,
   "id": "b0ba4049",
   "metadata": {},
   "outputs": [
    {
     "name": "stdout",
     "output_type": "stream",
     "text": [
      "RUNNING THE L-BFGS-B CODE\n",
      "\n",
      "           * * *\n",
      "\n",
      "Machine precision = 2.220D-16\n",
      " N =            5     M =           10\n",
      "\n",
      "At X0         0 variables are exactly at the bounds\n",
      "\n",
      "At iterate    0    f=  2.28290D+00    |proj g|=  5.12208D+00\n",
      "\n",
      "At iterate    5    f=  2.28251D+00    |proj g|=  8.29161D+00\n",
      "\n",
      "At iterate   10    f=  2.26721D+00    |proj g|=  4.65530D+01\n",
      "\n",
      "At iterate   15    f=  2.26124D+00    |proj g|=  2.04267D-01\n",
      "\n",
      "At iterate   20    f=  2.24394D+00    |proj g|=  3.26631D+01\n",
      "\n",
      "At iterate   25    f=  2.22334D+00    |proj g|=  8.86012D-02\n",
      "\n",
      "           * * *\n",
      "\n",
      "Tit   = total number of iterations\n",
      "Tnf   = total number of function evaluations\n",
      "Tnint = total number of segments explored during Cauchy searches\n",
      "Skip  = number of BFGS updates skipped\n",
      "Nact  = number of active bounds at final generalized Cauchy point\n",
      "Projg = norm of the final projected gradient\n",
      "F     = final function value\n",
      "\n",
      "           * * *\n",
      "\n",
      "   N    Tit     Tnf  Tnint  Skip  Nact     Projg        F\n",
      "    5     28     73      2     0     0   1.138D-01   2.223D+00\n",
      "  F =   2.2226482130743754     \n",
      "\n",
      "CONVERGENCE: REL_REDUCTION_OF_F_<=_FACTR*EPSMCH             \n"
     ]
    },
    {
     "name": "stderr",
     "output_type": "stream",
     "text": [
      " This problem is unconstrained.\n",
      "\n",
      " Bad direction in the line search;\n",
      "   refresh the lbfgs memory and restart the iteration.\n",
      "\n",
      " Warning:  more than 10 function and gradient\n",
      "   evaluations in the last line search.  Termination\n",
      "   may possibly be caused by a bad search direction.\n"
     ]
    }
   ],
   "source": [
    "by_year_ts['intercept'] = 1\n",
    "arima_progunlaw = SARIMAX(endog = by_year_ts['progunlaw_pct'], order = (0, 0, 1), \n",
    "                      exog = by_year_ts[['ba_pct', 'year', 'intercept']]).fit(trend = 'nc')"
   ]
  },
  {
   "cell_type": "code",
   "execution_count": 28,
   "id": "a70a0432",
   "metadata": {},
   "outputs": [
    {
     "data": {
      "text/html": [
       "<table class=\"simpletable\">\n",
       "<caption>SARIMAX Results</caption>\n",
       "<tr>\n",
       "  <th>Dep. Variable:</th>      <td>gunlaw_pct</td>    <th>  No. Observations:  </th>   <td>39</td>   \n",
       "</tr>\n",
       "<tr>\n",
       "  <th>Model:</th>           <td>SARIMAX(0, 0, 1)</td> <th>  Log Likelihood     </th> <td>-86.683</td>\n",
       "</tr>\n",
       "<tr>\n",
       "  <th>Date:</th>            <td>Sun, 11 Dec 2022</td> <th>  AIC                </th> <td>183.367</td>\n",
       "</tr>\n",
       "<tr>\n",
       "  <th>Time:</th>                <td>22:18:21</td>     <th>  BIC                </th> <td>191.684</td>\n",
       "</tr>\n",
       "<tr>\n",
       "  <th>Sample:</th>                  <td>0</td>        <th>  HQIC               </th> <td>186.351</td>\n",
       "</tr>\n",
       "<tr>\n",
       "  <th></th>                       <td> - 39</td>      <th>                     </th>    <td> </td>   \n",
       "</tr>\n",
       "<tr>\n",
       "  <th>Covariance Type:</th>        <td>opg</td>       <th>                     </th>    <td> </td>   \n",
       "</tr>\n",
       "</table>\n",
       "<table class=\"simpletable\">\n",
       "<tr>\n",
       "      <td></td>         <th>coef</th>     <th>std err</th>      <th>z</th>      <th>P>|z|</th>  <th>[0.025</th>    <th>0.975]</th>  \n",
       "</tr>\n",
       "<tr>\n",
       "  <th>ba_pct</th>    <td>   -1.0178</td> <td>    0.446</td> <td>   -2.281</td> <td> 0.023</td> <td>   -1.893</td> <td>   -0.143</td>\n",
       "</tr>\n",
       "<tr>\n",
       "  <th>year</th>      <td>    0.2819</td> <td>    0.188</td> <td>    1.500</td> <td> 0.134</td> <td>   -0.086</td> <td>    0.650</td>\n",
       "</tr>\n",
       "<tr>\n",
       "  <th>intercept</th> <td> -417.6581</td> <td>  365.378</td> <td>   -1.143</td> <td> 0.253</td> <td>-1133.786</td> <td>  298.470</td>\n",
       "</tr>\n",
       "<tr>\n",
       "  <th>ma.L1</th>     <td>    0.6700</td> <td>    0.148</td> <td>    4.524</td> <td> 0.000</td> <td>    0.380</td> <td>    0.960</td>\n",
       "</tr>\n",
       "<tr>\n",
       "  <th>sigma2</th>    <td>    4.9139</td> <td>    1.462</td> <td>    3.361</td> <td> 0.001</td> <td>    2.049</td> <td>    7.779</td>\n",
       "</tr>\n",
       "</table>\n",
       "<table class=\"simpletable\">\n",
       "<tr>\n",
       "  <th>Ljung-Box (L1) (Q):</th>     <td>2.81</td> <th>  Jarque-Bera (JB):  </th> <td>1.05</td>\n",
       "</tr>\n",
       "<tr>\n",
       "  <th>Prob(Q):</th>                <td>0.09</td> <th>  Prob(JB):          </th> <td>0.59</td>\n",
       "</tr>\n",
       "<tr>\n",
       "  <th>Heteroskedasticity (H):</th> <td>1.14</td> <th>  Skew:              </th> <td>0.40</td>\n",
       "</tr>\n",
       "<tr>\n",
       "  <th>Prob(H) (two-sided):</th>    <td>0.82</td> <th>  Kurtosis:          </th> <td>3.02</td>\n",
       "</tr>\n",
       "</table><br/><br/>Warnings:<br/>[1] Covariance matrix calculated using the outer product of gradients (complex-step)."
      ],
      "text/plain": [
       "<class 'statsmodels.iolib.summary.Summary'>\n",
       "\"\"\"\n",
       "                               SARIMAX Results                                \n",
       "==============================================================================\n",
       "Dep. Variable:             gunlaw_pct   No. Observations:                   39\n",
       "Model:               SARIMAX(0, 0, 1)   Log Likelihood                 -86.683\n",
       "Date:                Sun, 11 Dec 2022   AIC                            183.367\n",
       "Time:                        22:18:21   BIC                            191.684\n",
       "Sample:                             0   HQIC                           186.351\n",
       "                                 - 39                                         \n",
       "Covariance Type:                  opg                                         \n",
       "==============================================================================\n",
       "                 coef    std err          z      P>|z|      [0.025      0.975]\n",
       "------------------------------------------------------------------------------\n",
       "ba_pct        -1.0178      0.446     -2.281      0.023      -1.893      -0.143\n",
       "year           0.2819      0.188      1.500      0.134      -0.086       0.650\n",
       "intercept   -417.6581    365.378     -1.143      0.253   -1133.786     298.470\n",
       "ma.L1          0.6700      0.148      4.524      0.000       0.380       0.960\n",
       "sigma2         4.9139      1.462      3.361      0.001       2.049       7.779\n",
       "===================================================================================\n",
       "Ljung-Box (L1) (Q):                   2.81   Jarque-Bera (JB):                 1.05\n",
       "Prob(Q):                              0.09   Prob(JB):                         0.59\n",
       "Heteroskedasticity (H):               1.14   Skew:                             0.40\n",
       "Prob(H) (two-sided):                  0.82   Kurtosis:                         3.02\n",
       "===================================================================================\n",
       "\n",
       "Warnings:\n",
       "[1] Covariance matrix calculated using the outer product of gradients (complex-step).\n",
       "\"\"\""
      ]
     },
     "execution_count": 28,
     "metadata": {},
     "output_type": "execute_result"
    }
   ],
   "source": [
    "arima_progunlaw.summary()"
   ]
  },
  {
   "cell_type": "code",
   "execution_count": 29,
   "id": "9ed56dc6",
   "metadata": {},
   "outputs": [
    {
     "data": {
      "text/html": [
       "<div>\n",
       "<style scoped>\n",
       "    .dataframe tbody tr th:only-of-type {\n",
       "        vertical-align: middle;\n",
       "    }\n",
       "\n",
       "    .dataframe tbody tr th {\n",
       "        vertical-align: top;\n",
       "    }\n",
       "\n",
       "    .dataframe thead th {\n",
       "        text-align: right;\n",
       "    }\n",
       "</style>\n",
       "<table border=\"1\" class=\"dataframe\">\n",
       "  <thead>\n",
       "    <tr style=\"text-align: right;\">\n",
       "      <th></th>\n",
       "      <th>lb_stat</th>\n",
       "      <th>lb_pvalue</th>\n",
       "      <th>bp_stat</th>\n",
       "      <th>bp_pvalue</th>\n",
       "    </tr>\n",
       "  </thead>\n",
       "  <tbody>\n",
       "    <tr>\n",
       "      <th>1</th>\n",
       "      <td>2.787568</td>\n",
       "      <td>0.094998</td>\n",
       "      <td>2.583599</td>\n",
       "      <td>0.107976</td>\n",
       "    </tr>\n",
       "    <tr>\n",
       "      <th>2</th>\n",
       "      <td>8.817771</td>\n",
       "      <td>0.012169</td>\n",
       "      <td>8.025490</td>\n",
       "      <td>0.018084</td>\n",
       "    </tr>\n",
       "    <tr>\n",
       "      <th>3</th>\n",
       "      <td>9.157019</td>\n",
       "      <td>0.027274</td>\n",
       "      <td>8.323366</td>\n",
       "      <td>0.039781</td>\n",
       "    </tr>\n",
       "    <tr>\n",
       "      <th>4</th>\n",
       "      <td>10.901502</td>\n",
       "      <td>0.027694</td>\n",
       "      <td>9.812560</td>\n",
       "      <td>0.043706</td>\n",
       "    </tr>\n",
       "    <tr>\n",
       "      <th>5</th>\n",
       "      <td>11.024850</td>\n",
       "      <td>0.050889</td>\n",
       "      <td>9.914848</td>\n",
       "      <td>0.077684</td>\n",
       "    </tr>\n",
       "    <tr>\n",
       "      <th>6</th>\n",
       "      <td>11.256928</td>\n",
       "      <td>0.080753</td>\n",
       "      <td>10.101642</td>\n",
       "      <td>0.120436</td>\n",
       "    </tr>\n",
       "    <tr>\n",
       "      <th>7</th>\n",
       "      <td>13.409599</td>\n",
       "      <td>0.062736</td>\n",
       "      <td>11.781776</td>\n",
       "      <td>0.107968</td>\n",
       "    </tr>\n",
       "    <tr>\n",
       "      <th>8</th>\n",
       "      <td>13.435510</td>\n",
       "      <td>0.097718</td>\n",
       "      <td>11.801367</td>\n",
       "      <td>0.160289</td>\n",
       "    </tr>\n",
       "    <tr>\n",
       "      <th>9</th>\n",
       "      <td>13.437977</td>\n",
       "      <td>0.143769</td>\n",
       "      <td>11.803172</td>\n",
       "      <td>0.224634</td>\n",
       "    </tr>\n",
       "    <tr>\n",
       "      <th>10</th>\n",
       "      <td>13.885276</td>\n",
       "      <td>0.178289</td>\n",
       "      <td>12.119554</td>\n",
       "      <td>0.277135</td>\n",
       "    </tr>\n",
       "    <tr>\n",
       "      <th>11</th>\n",
       "      <td>15.508741</td>\n",
       "      <td>0.160371</td>\n",
       "      <td>13.228262</td>\n",
       "      <td>0.278669</td>\n",
       "    </tr>\n",
       "    <tr>\n",
       "      <th>12</th>\n",
       "      <td>21.415702</td>\n",
       "      <td>0.044615</td>\n",
       "      <td>17.118212</td>\n",
       "      <td>0.145204</td>\n",
       "    </tr>\n",
       "    <tr>\n",
       "      <th>13</th>\n",
       "      <td>27.674911</td>\n",
       "      <td>0.010043</td>\n",
       "      <td>21.087466</td>\n",
       "      <td>0.071217</td>\n",
       "    </tr>\n",
       "    <tr>\n",
       "      <th>14</th>\n",
       "      <td>28.938143</td>\n",
       "      <td>0.010654</td>\n",
       "      <td>21.857730</td>\n",
       "      <td>0.081585</td>\n",
       "    </tr>\n",
       "    <tr>\n",
       "      <th>15</th>\n",
       "      <td>31.406907</td>\n",
       "      <td>0.007746</td>\n",
       "      <td>23.302860</td>\n",
       "      <td>0.077918</td>\n",
       "    </tr>\n",
       "    <tr>\n",
       "      <th>16</th>\n",
       "      <td>32.078550</td>\n",
       "      <td>0.009767</td>\n",
       "      <td>23.679635</td>\n",
       "      <td>0.096739</td>\n",
       "    </tr>\n",
       "    <tr>\n",
       "      <th>17</th>\n",
       "      <td>35.642953</td>\n",
       "      <td>0.005117</td>\n",
       "      <td>25.592242</td>\n",
       "      <td>0.082217</td>\n",
       "    </tr>\n",
       "    <tr>\n",
       "      <th>18</th>\n",
       "      <td>37.758081</td>\n",
       "      <td>0.004169</td>\n",
       "      <td>26.675600</td>\n",
       "      <td>0.085284</td>\n",
       "    </tr>\n",
       "  </tbody>\n",
       "</table>\n",
       "</div>"
      ],
      "text/plain": [
       "      lb_stat  lb_pvalue    bp_stat  bp_pvalue\n",
       "1    2.787568   0.094998   2.583599   0.107976\n",
       "2    8.817771   0.012169   8.025490   0.018084\n",
       "3    9.157019   0.027274   8.323366   0.039781\n",
       "4   10.901502   0.027694   9.812560   0.043706\n",
       "5   11.024850   0.050889   9.914848   0.077684\n",
       "6   11.256928   0.080753  10.101642   0.120436\n",
       "7   13.409599   0.062736  11.781776   0.107968\n",
       "8   13.435510   0.097718  11.801367   0.160289\n",
       "9   13.437977   0.143769  11.803172   0.224634\n",
       "10  13.885276   0.178289  12.119554   0.277135\n",
       "11  15.508741   0.160371  13.228262   0.278669\n",
       "12  21.415702   0.044615  17.118212   0.145204\n",
       "13  27.674911   0.010043  21.087466   0.071217\n",
       "14  28.938143   0.010654  21.857730   0.081585\n",
       "15  31.406907   0.007746  23.302860   0.077918\n",
       "16  32.078550   0.009767  23.679635   0.096739\n",
       "17  35.642953   0.005117  25.592242   0.082217\n",
       "18  37.758081   0.004169  26.675600   0.085284"
      ]
     },
     "execution_count": 29,
     "metadata": {},
     "output_type": "execute_result"
    }
   ],
   "source": [
    "acorr_ljungbox(arima_progunlaw.resid, boxpierce = True, lags = round((len(by_year_ts)/2-2), 0))"
   ]
  },
  {
   "cell_type": "code",
   "execution_count": null,
   "id": "d09f3955",
   "metadata": {},
   "outputs": [],
   "source": []
  }
 ],
 "metadata": {
  "kernelspec": {
   "display_name": "Python 3 (ipykernel)",
   "language": "python",
   "name": "python3"
  },
  "language_info": {
   "codemirror_mode": {
    "name": "ipython",
    "version": 3
   },
   "file_extension": ".py",
   "mimetype": "text/x-python",
   "name": "python",
   "nbconvert_exporter": "python",
   "pygments_lexer": "ipython3",
   "version": "3.9.13"
  }
 },
 "nbformat": 4,
 "nbformat_minor": 5
}
